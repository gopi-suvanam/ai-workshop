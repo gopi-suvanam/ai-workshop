{
 "cells": [
  {
   "cell_type": "code",
   "execution_count": 97,
   "id": "c85f45e7-675c-4c68-bc40-d9032c2bbf3b",
   "metadata": {},
   "outputs": [],
   "source": [
    "import statsmodels.api as sm"
   ]
  },
  {
   "cell_type": "code",
   "execution_count": 98,
   "id": "2c537838-a707-4f08-86b4-2213c990014c",
   "metadata": {},
   "outputs": [],
   "source": [
    "sequence=[1,2,3,4,5]"
   ]
  },
  {
   "cell_type": "code",
   "execution_count": 99,
   "id": "808896fb-ff69-4484-9396-970c80f8d6c1",
   "metadata": {},
   "outputs": [],
   "source": [
    "def seq_to_xy(seq,window=2):\n",
    "    X=[]\n",
    "    Y=[]\n",
    "    for i in range(0,len(seq)-window):\n",
    "        X.append(seq[i:i+window])\n",
    "        Y.append(seq[i+window])\n",
    "    return X,Y"
   ]
  },
  {
   "cell_type": "code",
   "execution_count": 100,
   "id": "ec560034-f29c-4b56-b263-84e4df2889cb",
   "metadata": {},
   "outputs": [],
   "source": [
    "X,Y=seq_to_xy(sequence)"
   ]
  },
  {
   "cell_type": "code",
   "execution_count": 101,
   "id": "271339ea-fac0-4d42-a6c0-39c2c661021d",
   "metadata": {},
   "outputs": [],
   "source": [
    "mod = sm.OLS(Y, X)"
   ]
  },
  {
   "cell_type": "code",
   "execution_count": 102,
   "id": "37d6fe09-6dab-4579-b192-385fb4c16172",
   "metadata": {},
   "outputs": [],
   "source": [
    "mod=mod.fit()"
   ]
  },
  {
   "cell_type": "code",
   "execution_count": 103,
   "id": "c5619619-5e38-4b98-a701-0ba1002dae86",
   "metadata": {},
   "outputs": [
    {
     "name": "stderr",
     "output_type": "stream",
     "text": [
      "/Users/bhargaviramadugu/Desktop/Gopi/notebooks/py3/lib/python3.9/site-packages/statsmodels/stats/stattools.py:74: ValueWarning: omni_normtest is not valid with less than 8 observations; 3 samples were given.\n",
      "  warn(\"omni_normtest is not valid with less than 8 observations; %i \"\n"
     ]
    },
    {
     "data": {
      "text/html": [
       "<table class=\"simpletable\">\n",
       "<caption>OLS Regression Results</caption>\n",
       "<tr>\n",
       "  <th>Dep. Variable:</th>            <td>y</td>        <th>  R-squared:         </th> <td>   1.000</td> \n",
       "</tr>\n",
       "<tr>\n",
       "  <th>Model:</th>                   <td>OLS</td>       <th>  Adj. R-squared:    </th> <td>   1.000</td> \n",
       "</tr>\n",
       "<tr>\n",
       "  <th>Method:</th>             <td>Least Squares</td>  <th>  F-statistic:       </th> <td>8.113e+28</td>\n",
       "</tr>\n",
       "<tr>\n",
       "  <th>Date:</th>             <td>Sat, 04 Nov 2023</td> <th>  Prob (F-statistic):</th> <td>2.24e-15</td> \n",
       "</tr>\n",
       "<tr>\n",
       "  <th>Time:</th>                 <td>15:23:33</td>     <th>  Log-Likelihood:    </th> <td>  96.200</td> \n",
       "</tr>\n",
       "<tr>\n",
       "  <th>No. Observations:</th>      <td>     3</td>      <th>  AIC:               </th> <td>  -188.4</td> \n",
       "</tr>\n",
       "<tr>\n",
       "  <th>Df Residuals:</th>          <td>     1</td>      <th>  BIC:               </th> <td>  -190.2</td> \n",
       "</tr>\n",
       "<tr>\n",
       "  <th>Df Model:</th>              <td>     1</td>      <th>                     </th>     <td> </td>    \n",
       "</tr>\n",
       "<tr>\n",
       "  <th>Covariance Type:</th>      <td>nonrobust</td>    <th>                     </th>     <td> </td>    \n",
       "</tr>\n",
       "</table>\n",
       "<table class=\"simpletable\">\n",
       "<tr>\n",
       "   <td></td>     <th>coef</th>     <th>std err</th>      <th>t</th>      <th>P>|t|</th>  <th>[0.025</th>    <th>0.975]</th>  \n",
       "</tr>\n",
       "<tr>\n",
       "  <th>x1</th> <td>   -1.0000</td> <td> 1.09e-14</td> <td>-9.16e+13</td> <td> 0.000</td> <td>   -1.000</td> <td>   -1.000</td>\n",
       "</tr>\n",
       "<tr>\n",
       "  <th>x2</th> <td>    2.0000</td> <td> 7.58e-15</td> <td> 2.64e+14</td> <td> 0.000</td> <td>    2.000</td> <td>    2.000</td>\n",
       "</tr>\n",
       "</table>\n",
       "<table class=\"simpletable\">\n",
       "<tr>\n",
       "  <th>Omnibus:</th>       <td>   nan</td> <th>  Durbin-Watson:     </th> <td>   0.040</td>\n",
       "</tr>\n",
       "<tr>\n",
       "  <th>Prob(Omnibus):</th> <td>   nan</td> <th>  Jarque-Bera (JB):  </th> <td>   0.354</td>\n",
       "</tr>\n",
       "<tr>\n",
       "  <th>Skew:</th>          <td>-0.382</td> <th>  Prob(JB):          </th> <td>   0.838</td>\n",
       "</tr>\n",
       "<tr>\n",
       "  <th>Kurtosis:</th>      <td> 1.500</td> <th>  Cond. No.          </th> <td>    17.5</td>\n",
       "</tr>\n",
       "</table><br/><br/>Notes:<br/>[1] Standard Errors assume that the covariance matrix of the errors is correctly specified."
      ],
      "text/latex": [
       "\\begin{center}\n",
       "\\begin{tabular}{lclc}\n",
       "\\toprule\n",
       "\\textbf{Dep. Variable:}    &        y         & \\textbf{  R-squared:         } &     1.000   \\\\\n",
       "\\textbf{Model:}            &       OLS        & \\textbf{  Adj. R-squared:    } &     1.000   \\\\\n",
       "\\textbf{Method:}           &  Least Squares   & \\textbf{  F-statistic:       } & 8.113e+28   \\\\\n",
       "\\textbf{Date:}             & Sat, 04 Nov 2023 & \\textbf{  Prob (F-statistic):} &  2.24e-15   \\\\\n",
       "\\textbf{Time:}             &     15:23:33     & \\textbf{  Log-Likelihood:    } &    96.200   \\\\\n",
       "\\textbf{No. Observations:} &           3      & \\textbf{  AIC:               } &    -188.4   \\\\\n",
       "\\textbf{Df Residuals:}     &           1      & \\textbf{  BIC:               } &    -190.2   \\\\\n",
       "\\textbf{Df Model:}         &           1      & \\textbf{                     } &             \\\\\n",
       "\\textbf{Covariance Type:}  &    nonrobust     & \\textbf{                     } &             \\\\\n",
       "\\bottomrule\n",
       "\\end{tabular}\n",
       "\\begin{tabular}{lcccccc}\n",
       "            & \\textbf{coef} & \\textbf{std err} & \\textbf{t} & \\textbf{P$> |$t$|$} & \\textbf{[0.025} & \\textbf{0.975]}  \\\\\n",
       "\\midrule\n",
       "\\textbf{x1} &      -1.0000  &     1.09e-14     & -9.16e+13  &         0.000        &       -1.000    &       -1.000     \\\\\n",
       "\\textbf{x2} &       2.0000  &     7.58e-15     &  2.64e+14  &         0.000        &        2.000    &        2.000     \\\\\n",
       "\\bottomrule\n",
       "\\end{tabular}\n",
       "\\begin{tabular}{lclc}\n",
       "\\textbf{Omnibus:}       &    nan & \\textbf{  Durbin-Watson:     } &    0.040  \\\\\n",
       "\\textbf{Prob(Omnibus):} &    nan & \\textbf{  Jarque-Bera (JB):  } &    0.354  \\\\\n",
       "\\textbf{Skew:}          & -0.382 & \\textbf{  Prob(JB):          } &    0.838  \\\\\n",
       "\\textbf{Kurtosis:}      &  1.500 & \\textbf{  Cond. No.          } &     17.5  \\\\\n",
       "\\bottomrule\n",
       "\\end{tabular}\n",
       "%\\caption{OLS Regression Results}\n",
       "\\end{center}\n",
       "\n",
       "Notes: \\newline\n",
       " [1] Standard Errors assume that the covariance matrix of the errors is correctly specified."
      ],
      "text/plain": [
       "<class 'statsmodels.iolib.summary.Summary'>\n",
       "\"\"\"\n",
       "                            OLS Regression Results                            \n",
       "==============================================================================\n",
       "Dep. Variable:                      y   R-squared:                       1.000\n",
       "Model:                            OLS   Adj. R-squared:                  1.000\n",
       "Method:                 Least Squares   F-statistic:                 8.113e+28\n",
       "Date:                Sat, 04 Nov 2023   Prob (F-statistic):           2.24e-15\n",
       "Time:                        15:23:33   Log-Likelihood:                 96.200\n",
       "No. Observations:                   3   AIC:                            -188.4\n",
       "Df Residuals:                       1   BIC:                            -190.2\n",
       "Df Model:                           1                                         \n",
       "Covariance Type:            nonrobust                                         \n",
       "==============================================================================\n",
       "                 coef    std err          t      P>|t|      [0.025      0.975]\n",
       "------------------------------------------------------------------------------\n",
       "x1            -1.0000   1.09e-14  -9.16e+13      0.000      -1.000      -1.000\n",
       "x2             2.0000   7.58e-15   2.64e+14      0.000       2.000       2.000\n",
       "==============================================================================\n",
       "Omnibus:                          nan   Durbin-Watson:                   0.040\n",
       "Prob(Omnibus):                    nan   Jarque-Bera (JB):                0.354\n",
       "Skew:                          -0.382   Prob(JB):                        0.838\n",
       "Kurtosis:                       1.500   Cond. No.                         17.5\n",
       "==============================================================================\n",
       "\n",
       "Notes:\n",
       "[1] Standard Errors assume that the covariance matrix of the errors is correctly specified.\n",
       "\"\"\""
      ]
     },
     "execution_count": 103,
     "metadata": {},
     "output_type": "execute_result"
    }
   ],
   "source": [
    "mod.summary()"
   ]
  },
  {
   "cell_type": "code",
   "execution_count": 104,
   "id": "b32bdc2e-fce3-4732-b5e0-b435120246ef",
   "metadata": {},
   "outputs": [
    {
     "data": {
      "text/plain": [
       "array([6.])"
      ]
     },
     "execution_count": 104,
     "metadata": {},
     "output_type": "execute_result"
    }
   ],
   "source": [
    "mod.predict(sequence[-2:])"
   ]
  },
  {
   "cell_type": "code",
   "execution_count": 105,
   "id": "3338b708-41a9-499d-bdd5-7c40855a90be",
   "metadata": {},
   "outputs": [],
   "source": [
    "def sequence_predictor(seq,window):\n",
    "    X,Y=seq_to_xy(seq,window)\n",
    "    mod = sm.OLS(exog=X,endog=Y)\n",
    "    mod=mod.fit()\n",
    "    prediction=mod.predict(seq[-window:])\n",
    "    return prediction"
   ]
  },
  {
   "cell_type": "code",
   "execution_count": 106,
   "id": "4dbf8227-7e81-4c68-87dc-90fc9f17037e",
   "metadata": {},
   "outputs": [
    {
     "data": {
      "text/plain": [
       "array([7.])"
      ]
     },
     "execution_count": 106,
     "metadata": {},
     "output_type": "execute_result"
    }
   ],
   "source": [
    "sequence_predictor([1,2,3,4,5,6],2)"
   ]
  },
  {
   "cell_type": "code",
   "execution_count": 107,
   "id": "949e6d86-53cf-4fa8-b45a-ee0539a6df64",
   "metadata": {},
   "outputs": [
    {
     "data": {
      "text/plain": [
       "array([13.])"
      ]
     },
     "execution_count": 107,
     "metadata": {},
     "output_type": "execute_result"
    }
   ],
   "source": [
    "sequence_predictor([1,1,2,3,5,8],2)"
   ]
  },
  {
   "cell_type": "code",
   "execution_count": 108,
   "id": "1358ae88-4971-4164-8f2e-09a3e407faa4",
   "metadata": {},
   "outputs": [
    {
     "data": {
      "text/plain": [
       "array([64.])"
      ]
     },
     "execution_count": 108,
     "metadata": {},
     "output_type": "execute_result"
    }
   ],
   "source": [
    "sequence_predictor([1,4,9,16,25,36,49],3)"
   ]
  },
  {
   "cell_type": "code",
   "execution_count": 109,
   "id": "ff64b976-b766-423d-9ee0-3fff8c20b49b",
   "metadata": {},
   "outputs": [],
   "source": [
    "mod = sm.OLS(Y, X)\n",
    "mod=mod.fit()"
   ]
  },
  {
   "cell_type": "code",
   "execution_count": 110,
   "id": "1061a5d6-9e3a-4756-a764-068991b92fa7",
   "metadata": {},
   "outputs": [
    {
     "data": {
      "text/plain": [
       "array([64.])"
      ]
     },
     "execution_count": 110,
     "metadata": {},
     "output_type": "execute_result"
    }
   ],
   "source": [
    "sequence_predictor([1,4,9,16,25,36,49],3)"
   ]
  },
  {
   "cell_type": "code",
   "execution_count": null,
   "id": "6fc64157-f7ed-4e89-809b-09734c4dec34",
   "metadata": {},
   "outputs": [],
   "source": []
  }
 ],
 "metadata": {
  "kernelspec": {
   "display_name": "Python 3 (ipykernel)",
   "language": "python",
   "name": "python3"
  },
  "language_info": {
   "codemirror_mode": {
    "name": "ipython",
    "version": 3
   },
   "file_extension": ".py",
   "mimetype": "text/x-python",
   "name": "python",
   "nbconvert_exporter": "python",
   "pygments_lexer": "ipython3",
   "version": "3.9.6"
  }
 },
 "nbformat": 4,
 "nbformat_minor": 5
}
